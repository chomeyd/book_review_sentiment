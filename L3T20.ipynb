{
 "cells": [
  {
   "cell_type": "markdown",
   "metadata": {
    "colab_type": "text",
    "id": "eHGm8RQlK46m"
   },
   "source": [
    "# Get and explore dataset"
   ]
  },
  {
   "cell_type": "code",
   "execution_count": 33,
   "metadata": {
    "colab": {},
    "colab_type": "code",
    "id": "-erlYw1jXtgh"
   },
   "outputs": [],
   "source": [
    "import matplotlib.pyplot as plt\n",
    "from matplotlib import pyplot\n",
    "import numpy as np\n",
    "import re\n",
    "import statistics"
   ]
  },
  {
   "cell_type": "code",
   "execution_count": 2,
   "metadata": {
    "colab": {},
    "colab_type": "code",
    "id": "goZIhX8nII4T"
   },
   "outputs": [],
   "source": [
    "# Make results reproducible - set random seed\n",
    "from numpy.random import seed\n",
    "seed(42)"
   ]
  },
  {
   "cell_type": "code",
   "execution_count": 3,
   "metadata": {
    "colab": {},
    "colab_type": "code",
    "id": "v_fEysQHII4W",
    "tags": []
   },
   "outputs": [],
   "source": [
    "negative_file = \"negative.txt\"\n",
    "positive_file = \"positive.txt\""
   ]
  },
  {
   "cell_type": "code",
   "execution_count": 4,
   "metadata": {
    "colab": {},
    "colab_type": "code",
    "id": "0rWm4yycII4Y",
    "tags": []
   },
   "outputs": [],
   "source": [
    "# Do not modify - helper function to load and preprocess data\n",
    "def filter_words(line):    \n",
    "    line = re.sub(r'[^\\w\\s]','',line.rstrip())\n",
    "    words = line.split(\" \") \n",
    "    words = [i.lower() for i in words if i]      \n",
    "    return \" \".join(words)\n",
    "\n",
    "def load_data(filename):\n",
    "    thefile = open(filename, 'r') \n",
    "    lines = thefile.readlines() \n",
    "\n",
    "    data = []\n",
    "    for l in range(0,len(lines)): \n",
    "        if(lines[l-1].strip() == \"<title>\"): \n",
    "            theline = filter_words(lines[l])\n",
    "            if(len(theline) < 50):\n",
    "                data.append(theline)            \n",
    "            \n",
    "    return data\n",
    "\n",
    "# Helper function to convert categorical data to class label\n",
    "def to_word_label(y):\n",
    "    y = to_class(y)   \n",
    "    return [\"positive\" if i==0 else \"negative\" for i in y]\n",
    "\n",
    "# Helper function to convert class label to numeric label\n",
    "def to_numeric_label(y):\n",
    "  return [0 if i==\"positive\" else 1 for i in word_labels]\n",
    "\n",
    "# Helper function: this function needs to be called before sending arrays to sklearn metrics,\n",
    "# it converts back to class form from categorical form. ie: [1,0] --> 0, [0,1] --> 1\n",
    "def to_class(y):\n",
    "    return np.argmax(y,axis=1) "
   ]
  },
  {
   "cell_type": "code",
   "execution_count": 5,
   "metadata": {
    "colab": {
     "base_uri": "https://localhost:8080/",
     "height": 70
    },
    "colab_type": "code",
    "id": "jjGUiFm9II4b",
    "outputId": "aa5eb89b-85f2-4d61-f33a-b00361b19a41",
    "tags": []
   },
   "outputs": [
    {
     "name": "stdout",
     "output_type": "stream",
     "text": [
      "['one of the best crichton novels', 'the medicine of the future', 'beautiful', 'for lovers of robicheaux', 'a good book', 'to the point and beautifully illustrated', 'at least somebody has got it', 'beautifully written heartwarming story', 'an excellent cookbook full of delicious recipes', 'an outstanding resource']\n",
      "['horrible book horrible', 'shallow selfindulgence', 'horrible book horrible', 'disappointment', 'a disappointing mess', 'save your money there are better books out there', 'thank you but no thanks', 'unendurable', 'the hard way', 'some good info among the political commercial']\n"
     ]
    }
   ],
   "source": [
    "positive = load_data(positive_file)\n",
    "negative = load_data(negative_file)\n",
    "\n",
    "print(positive[0:10])\n",
    "print(negative[0:10])"
   ]
  },
  {
   "cell_type": "code",
   "execution_count": 7,
   "metadata": {
    "colab": {},
    "colab_type": "code",
    "id": "yrgEYOOCII4d",
    "tags": []
   },
   "outputs": [],
   "source": [
    "# Do not modify - Combines the positive and negative reviews into a single list and create labels\n",
    "data = positive + negative\n",
    "word_labels = [\"positive\"] * len(positive) + [\"negative\"] * len(negative) \n",
    "\n",
    "# Converts labels to numbers in one-hot encoding - [1, 0] (positive) or [0, 1] (negative)\n",
    "from tensorflow.keras.utils import to_categorical\n",
    "labels  = to_categorical(to_numeric_label(word_labels))"
   ]
  },
  {
   "cell_type": "code",
   "execution_count": 67,
   "metadata": {
    "colab": {},
    "colab_type": "code",
    "id": "97Uh2uBpII4l",
    "tags": []
   },
   "outputs": [
    {
     "name": "stdout",
     "output_type": "stream",
     "text": [
      "Total number of words is:  7776\n",
      "Total number of UNIQUE words is:  2559\n"
     ]
    }
   ],
   "source": [
    "# - Calculate and report the mean review size, its standard deviation and create a boxplot.\n",
    "review_size = []\n",
    "num_reviews = len(data)\n",
    "for i in range(num_reviews):\n",
    "    len_review = len(data[i].split())\n",
    "    review_size.append(len_review)\n",
    "\n",
    "mean_review = statistics.mean(review_size)\n",
    "std_review = statistics.stdev(review_size)\n",
    "\n",
    "# - Calculate the number of unique words in the dataset\n",
    "all_wordsss = []\n",
    "for i in range(num_reviews):\n",
    "    wordsss = data[i].split()\n",
    "    all_wordsss.append(wordsss)\n",
    "all_wordsss = [i for j in all_wordsss for i in j]\n",
    "uniq_wordsss = list(set(all_wordsss))\n",
    "print('Total number of words is: ', len(all_wordsss))\n",
    "print('Total number of UNIQUE words is: ',len(uniq_wordsss))"
   ]
  },
  {
   "cell_type": "code",
   "execution_count": 63,
   "metadata": {
    "colab": {
     "base_uri": "https://localhost:8080/",
     "height": 50
    },
    "colab_type": "code",
    "id": "_XXnArgcII4i",
    "outputId": "020b2ee2-4c2a-4bc0-bb55-e2ae3841fe57",
    "tags": []
   },
   "outputs": [
    {
     "name": "stdout",
     "output_type": "stream",
     "text": [
      "['one of the best crichton novels', 'the medicine of the future', 'beautiful', 'for lovers of robicheaux', 'a good book']\n",
      "[[18, 4, 2, 19], [2, 4, 2], [], [6, 4], [1, 12, 3]]\n"
     ]
    }
   ],
   "source": [
    "# Do not modify - Tokenize the vocabulary \n",
    "from keras.preprocessing.text import Tokenizer\n",
    "\n",
    "tokenizer = Tokenizer(num_words=25)\n",
    "\n",
    "tokenizer.fit_on_texts(data) #create the vocabularry\n",
    "\n",
    "tokenized_data = tokenizer.texts_to_sequences(data) #tokenize the data using the vocabulary\n",
    "\n",
    "vocab_size = len(tokenizer.word_index) + 1 \n",
    "\n",
    "# Compare a sample of the data before and after tokenization\n",
    "print(data[0:5])\n",
    "print(tokenized_data[0:5])"
   ]
  },
  {
   "cell_type": "markdown",
   "metadata": {
    "colab_type": "text",
    "id": "_vsMmLjdK1Gf"
   },
   "source": [
    "# Pre-processing"
   ]
  },
  {
   "cell_type": "code",
   "execution_count": 90,
   "metadata": {
    "colab": {},
    "colab_type": "code",
    "id": "24DaXd1zII4q",
    "tags": []
   },
   "outputs": [
    {
     "data": {
      "text/plain": [
       "array([[18,  4,  2, 19],\n",
       "       [ 2,  4,  2,  0],\n",
       "       [ 0,  0,  0,  0],\n",
       "       ...,\n",
       "       [ 0,  0,  0,  0],\n",
       "       [ 6,  0,  0,  0],\n",
       "       [ 0,  0,  0,  0]])"
      ]
     },
     "execution_count": 90,
     "metadata": {},
     "output_type": "execute_result"
    }
   ],
   "source": [
    "# Pre-processing\n",
    "# Write some code to pre-process the data so that each review is the same length\n",
    "\n",
    "from keras.preprocessing.sequence import pad_sequences\n",
    "\n",
    "tokenized_data_padded = pad_sequences(tokenized_data, padding='post', maxlen=4)\n",
    "\n",
    "tokenized_data_padded\n"
   ]
  },
  {
   "cell_type": "code",
   "execution_count": 117,
   "metadata": {},
   "outputs": [],
   "source": [
    "# Write some code to split the data into a training and test set. Make sure you shuffle the data. Use 20% for the test set.\n",
    "\n",
    "from sklearn.utils import shuffle\n",
    "#shuffle data and rename \n",
    "data_plus = shuffle(tokenized_data_padded, random_state=123)\n",
    "labels_plus = shuffle(labels, random_state=123)\n",
    "\n",
    "#test set size and train set size initialized\n",
    "train_size = int(len(data_plus) * 0.80)\n",
    "test_size = len(data_plus) - train_size\n",
    "\n",
    "#splitting data into training set and test set\n",
    "X_train, X_test = data_plus[0:train_size,:], data_plus[train_size:len(data_plus),:]\n",
    "y_train, y_test = labels_plus[0:train_size,:], labels_plus[train_size:len(labels_plus),:]\n"
   ]
  },
  {
   "cell_type": "code",
   "execution_count": 185,
   "metadata": {
    "colab": {
     "base_uri": "https://localhost:8080/",
     "height": 128
    },
    "colab_type": "code",
    "id": "lDth1BSzII4u",
    "outputId": "4614049a-7151-4407-9bc8-54604bbe7fdd"
   },
   "outputs": [],
   "source": [
    "\n",
    "from sklearn.metrics import confusion_matrix, precision_score, recall_score, f1_score\n",
    "\n",
    "# Fill in the following function so it\n",
    "# - makes a prediction for the test set given the model\n",
    "# - reports the precision, recall and f1 score. Also print the confusion matrix. \n",
    "# You will need to use the helper to_class function to convert y_pred and y_test before supplying them to the sklearn functions.\n",
    "\n",
    "def assess_model(model, X_test, y_test):      \n",
    "    #To do\n",
    "    y_test = to_class(y_test)\n",
    "    y_pred = model.predict(X_test)\n",
    "    y_pred = to_class(y_pred)\n",
    "    prec = precision_score(y_test, y_pred)\n",
    "    rec = recall_score(y_test, y_pred)\n",
    "    av_f1 = f1_score(y_test, y_pred, average='micro')\n",
    "    conf_mat = confusion_matrix(y_test, y_pred)\n",
    "    return print('Precision:', prec), print('Recall:', rec), print('f1 score:', av_f1), print('confunsion matrix: \\n', conf_mat)\n",
    "    "
   ]
  },
  {
   "cell_type": "markdown",
   "metadata": {
    "colab_type": "text",
    "id": "nTqLbbE6MpGt"
   },
   "source": [
    "# Build and tune model"
   ]
  },
  {
   "cell_type": "markdown",
   "metadata": {
    "colab_type": "text",
    "id": "3X70rA4uMXNv"
   },
   "source": [
    "Define network architecture"
   ]
  },
  {
   "cell_type": "code",
   "execution_count": 189,
   "metadata": {
    "colab": {},
    "colab_type": "code",
    "id": "wKoXWKG4II5F"
   },
   "outputs": [],
   "source": [
    "import tensorflow as tf\n",
    "from keras.models import Sequential\n",
    "from keras.layers import LSTM, Dense, Dropout\n",
    "\n",
    "# Define model architecture for with embedding layer's output_dim = 10, 25, 50 and 100.\n",
    "model10 = Sequential()\n",
    "model10.add(tf.keras.layers.Embedding(input_dim=2559,output_dim=10, input_length=4))    # output_dim=10, 25, 50 0r 100.\n",
    "model10.add(tf.keras.layers.SpatialDropout1D(0.2))\n",
    "model10.add(tf.keras.layers.BatchNormalization())\n",
    "model10.add(LSTM(32))\n",
    "model10.add(Dense(2, activation='softmax'))\n",
    "\n",
    "model25 = Sequential()\n",
    "model25.add(tf.keras.layers.Embedding(input_dim=2559,output_dim=10, input_length=4))    # output_dim=10, 25, 50 0r 100.\n",
    "model25.add(tf.keras.layers.SpatialDropout1D(0.2))\n",
    "model25.add(tf.keras.layers.BatchNormalization())\n",
    "model25.add(LSTM(32))\n",
    "model25.add(Dense(2, activation='softmax'))\n",
    "\n",
    "model50 = Sequential()\n",
    "model50.add(tf.keras.layers.Embedding(input_dim=2559,output_dim=10, input_length=4))    # output_dim=10, 25, 50 0r 100.\n",
    "model50.add(tf.keras.layers.SpatialDropout1D(0.2))\n",
    "model50.add(tf.keras.layers.BatchNormalization())\n",
    "model50.add(LSTM(32))\n",
    "model50.add(Dense(2, activation='softmax'))\n",
    "\n",
    "model100 = Sequential()\n",
    "model100.add(tf.keras.layers.Embedding(input_dim=2559,output_dim=10, input_length=4))    # output_dim=10, 25, 50 0r 100.\n",
    "model100.add(tf.keras.layers.SpatialDropout1D(0.2))\n",
    "model100.add(tf.keras.layers.BatchNormalization())\n",
    "model100.add(LSTM(32))\n",
    "model100.add(Dense(2, activation='softmax'))"
   ]
  },
  {
   "cell_type": "markdown",
   "metadata": {
    "colab_type": "text",
    "id": "llS0-VKBMbz-"
   },
   "source": [
    "Train model"
   ]
  },
  {
   "cell_type": "code",
   "execution_count": 190,
   "metadata": {
    "colab": {},
    "colab_type": "code",
    "id": "F5IJs0QuMe_I"
   },
   "outputs": [
    {
     "name": "stdout",
     "output_type": "stream",
     "text": [
      "Epoch 1/5\n",
      "144/144 [==============================] - 3s 4ms/step - loss: 0.6881 - accuracy: 0.5593\n",
      "Epoch 2/5\n",
      "144/144 [==============================] - 1s 4ms/step - loss: 0.6666 - accuracy: 0.5823\n",
      "Epoch 3/5\n",
      "144/144 [==============================] - 1s 4ms/step - loss: 0.6651 - accuracy: 0.5844\n",
      "Epoch 4/5\n",
      "144/144 [==============================] - 1s 4ms/step - loss: 0.6560 - accuracy: 0.6116\n",
      "Epoch 5/5\n",
      "144/144 [==============================] - 1s 4ms/step - loss: 0.6508 - accuracy: 0.6039\n",
      "Training model 10 complete \n",
      "\n",
      "Epoch 1/5\n",
      "144/144 [==============================] - 5s 4ms/step - loss: 0.6885 - accuracy: 0.5453\n",
      "Epoch 2/5\n",
      "144/144 [==============================] - 1s 4ms/step - loss: 0.6733 - accuracy: 0.5858\n",
      "Epoch 3/5\n",
      "144/144 [==============================] - 1s 4ms/step - loss: 0.6618 - accuracy: 0.5983\n",
      "Epoch 4/5\n",
      "144/144 [==============================] - 1s 4ms/step - loss: 0.6521 - accuracy: 0.6095\n",
      "Epoch 5/5\n",
      "144/144 [==============================] - 1s 4ms/step - loss: 0.6500 - accuracy: 0.6116\n",
      "Training 25 complete \n",
      "\n",
      "Epoch 1/5\n",
      "144/144 [==============================] - 3s 4ms/step - loss: 0.6892 - accuracy: 0.5307\n",
      "Epoch 2/5\n",
      "144/144 [==============================] - 1s 5ms/step - loss: 0.6644 - accuracy: 0.6137\n",
      "Epoch 3/5\n",
      "144/144 [==============================] - 1s 4ms/step - loss: 0.6603 - accuracy: 0.6067\n",
      "Epoch 4/5\n",
      "144/144 [==============================] - 1s 5ms/step - loss: 0.6510 - accuracy: 0.6116\n",
      "Epoch 5/5\n",
      "144/144 [==============================] - 1s 4ms/step - loss: 0.6506 - accuracy: 0.6081\n",
      "Training model 50 complete \n",
      "\n",
      "Epoch 1/5\n",
      "144/144 [==============================] - 3s 4ms/step - loss: 0.6908 - accuracy: 0.5286\n",
      "Epoch 2/5\n",
      "144/144 [==============================] - 1s 4ms/step - loss: 0.6663 - accuracy: 0.5934\n",
      "Epoch 3/5\n",
      "144/144 [==============================] - 1s 4ms/step - loss: 0.6606 - accuracy: 0.5976\n",
      "Epoch 4/5\n",
      "144/144 [==============================] - 1s 4ms/step - loss: 0.6564 - accuracy: 0.6088\n",
      "Epoch 5/5\n",
      "144/144 [==============================] - 1s 4ms/step - loss: 0.6476 - accuracy: 0.6018\n",
      "Training model 100 complete\n"
     ]
    }
   ],
   "source": [
    "batch_size = 10\n",
    "num_epochs = 5\n",
    "# compiling and training the moddel with embedding layer's output_dim = 10\n",
    "model10.compile(loss='binary_crossentropy',optimizer='adam', metrics=['accuracy'])\n",
    "model10.fit(x=X_train, y=y_train, batch_size=batch_size, epochs=num_epochs)\n",
    "print('Training model 10 complete \\n')\n",
    "\n",
    "# compiling and training the moddel with embedding layer's output_dim = 25\n",
    "model25.compile(loss='binary_crossentropy',optimizer='adam', metrics=['accuracy'])\n",
    "model25.fit(x=X_train, y=y_train, batch_size=batch_size, epochs=num_epochs)\n",
    "print('Training 25 complete \\n')\n",
    "\n",
    "# compiling and training the moddel with embedding layer's output_dim = 25\n",
    "model50.compile(loss='binary_crossentropy',optimizer='adam', metrics=['accuracy'])\n",
    "model50.fit(x=X_train, y=y_train, batch_size=batch_size, epochs=num_epochs)\n",
    "print('Training model 50 complete \\n')\n",
    "\n",
    "# compiling and training the moddel with embedding layer's output_dim = 25\n",
    "model100.compile(loss='binary_crossentropy',optimizer='adam', metrics=['accuracy'])\n",
    "model100.fit(x=X_train, y=y_train, batch_size=batch_size, epochs=num_epochs)\n",
    "print('Training model 100 complete')\n"
   ]
  },
  {
   "cell_type": "markdown",
   "metadata": {
    "colab_type": "text",
    "id": "rniBBEiyMRKD"
   },
   "source": [
    "Examine performance of model"
   ]
  },
  {
   "cell_type": "code",
   "execution_count": 191,
   "metadata": {
    "colab": {},
    "colab_type": "code",
    "id": "eBVogHg2II5T",
    "scrolled": false,
    "tags": []
   },
   "outputs": [
    {
     "name": "stdout",
     "output_type": "stream",
     "text": [
      "45/45 [==============================] - 1s 2ms/step - loss: 0.6400 - accuracy: 0.6206\n",
      "Model 10 performance\n",
      "loss: 0.6400451064109802\n",
      "accuracy: 0.6206415891647339\n",
      "\n",
      "\n",
      "45/45 [==============================] - 1s 2ms/step - loss: 0.6348 - accuracy: 0.6227\n",
      "Model 25 performance\n",
      "loss: 0.6347856521606445\n",
      "accuracy: 0.6227335929870605\n",
      "\n",
      "\n",
      "45/45 [==============================] - 1s 2ms/step - loss: 0.6389 - accuracy: 0.6304\n",
      "Model 50 performance\n",
      "loss: 0.6389313340187073\n",
      "accuracy: 0.6304044723510742\n",
      "\n",
      "\n",
      "45/45 [==============================] - 1s 2ms/step - loss: 0.6382 - accuracy: 0.6255\n",
      "Model 100 performance\n",
      "loss: 0.6381658911705017\n",
      "accuracy: 0.625523030757904\n"
     ]
    }
   ],
   "source": [
    "metric_values = model10.evaluate(x=X_train, y=y_train)\n",
    "print('Model 10 performance')\n",
    "for metric_value, metric_name in zip(metric_values, model10.metrics_names):\n",
    "  print('{}: {}'.format(metric_name, metric_value))\n",
    "print('\\n')\n",
    "\n",
    "metric_values = model25.evaluate(x=X_train, y=y_train)\n",
    "print('Model 25 performance')\n",
    "for metric_value, metric_name in zip(metric_values, model25.metrics_names):\n",
    "  print('{}: {}'.format(metric_name, metric_value))\n",
    "print('\\n')\n",
    "\n",
    "metric_values = model50.evaluate(x=X_train, y=y_train)\n",
    "print('Model 50 performance')\n",
    "for metric_value, metric_name in zip(metric_values, model50.metrics_names):\n",
    "  print('{}: {}'.format(metric_name, metric_value))\n",
    "print('\\n')\n",
    "\n",
    "metric_values = model100.evaluate(x=X_train, y=y_train)\n",
    "print('Model 100 performance')\n",
    "for metric_value, metric_name in zip(metric_values, model100.metrics_names):\n",
    "  print('{}: {}'.format(metric_name, metric_value))"
   ]
  },
  {
   "cell_type": "code",
   "execution_count": 192,
   "metadata": {},
   "outputs": [
    {
     "name": "stdout",
     "output_type": "stream",
     "text": [
      "Precision: 0.6407185628742516\n",
      "Recall: 0.5879120879120879\n",
      "f1 score: 0.6239554317548747\n",
      "confunsion matrix: \n",
      " [[117  60]\n",
      " [ 75 107]]\n",
      "\n",
      "\n",
      "Precision: 0.6233183856502242\n",
      "Recall: 0.7637362637362637\n",
      "f1 score: 0.6462395543175488\n",
      "confunsion matrix: \n",
      " [[ 93  84]\n",
      " [ 43 139]]\n",
      "\n",
      "\n",
      "Precision: 0.6417910447761194\n",
      "Recall: 0.7087912087912088\n",
      "f1 score: 0.6518105849582173\n",
      "confunsion matrix: \n",
      " [[105  72]\n",
      " [ 53 129]]\n",
      "\n",
      "\n",
      "Precision: 0.6398104265402843\n",
      "Recall: 0.7417582417582418\n",
      "f1 score: 0.6573816155988857\n",
      "confunsion matrix: \n",
      " [[101  76]\n",
      " [ 47 135]]\n"
     ]
    },
    {
     "data": {
      "text/plain": [
       "(None, None, None, None)"
      ]
     },
     "execution_count": 192,
     "metadata": {},
     "output_type": "execute_result"
    }
   ],
   "source": [
    "assess_model(model10, X_test, y_test)\n",
    "print('\\n')\n",
    "assess_model(model25, X_test, y_test)\n",
    "print('\\n')\n",
    "assess_model(model50, X_test, y_test)\n",
    "print('\\n')\n",
    "assess_model(model100, X_test, y_test)"
   ]
  },
  {
   "cell_type": "raw",
   "metadata": {},
   "source": [
    "Best model is where the output_dim hyper-parameter of the embedding layer is set to 50"
   ]
  },
  {
   "cell_type": "markdown",
   "metadata": {
    "colab_type": "text",
    "id": "HB8kzt-IME4U"
   },
   "source": [
    "Plot graphs for accuracy and loss"
   ]
  },
  {
   "cell_type": "code",
   "execution_count": 198,
   "metadata": {
    "colab": {},
    "colab_type": "code",
    "id": "hPyJ78unMJUI"
   },
   "outputs": [
    {
     "name": "stdout",
     "output_type": "stream",
     "text": [
      "Epoch 1/3\n",
      "144/144 [==============================] - 1s 6ms/step - loss: 0.5914 - accuracy: 0.6360 - val_loss: 0.6390 - val_accuracy: 0.6574\n",
      "Epoch 2/3\n",
      "144/144 [==============================] - 1s 6ms/step - loss: 0.5884 - accuracy: 0.6534 - val_loss: 0.6383 - val_accuracy: 0.6574\n",
      "Epoch 3/3\n",
      "144/144 [==============================] - 1s 5ms/step - loss: 0.5844 - accuracy: 0.6562 - val_loss: 0.6351 - val_accuracy: 0.6490\n"
     ]
    },
    {
     "data": {
      "image/png": "[encoded data removed]",
      "text/plain": [
       "<Figure size 432x288 with 1 Axes>"
      ]
     },
     "metadata": {
      "needs_background": "light"
     },
     "output_type": "display_data"
    },
    {
     "data": {
      "image/png": "[encoded data removed]",
      "text/plain": [
       "<Figure size 432x288 with 1 Axes>"
      ]
     },
     "metadata": {
      "needs_background": "light"
     },
     "output_type": "display_data"
    }
   ],
   "source": [
    "history = model50.fit(x=X_train, y=y_train, batch_size=batch_size, epochs=3,\n",
    "                      validation_data=(X_test, y_test))\n",
    "# summarize history for accuracy\n",
    "plt.plot(history.history['accuracy'])\n",
    "plt.plot(history.history['val_accuracy'])\n",
    "plt.title('model accuracy')\n",
    "plt.ylabel('accuracy')\n",
    "plt.xlabel('epoch')\n",
    "plt.legend(['train', 'test'], loc='upper left')\n",
    "plt.show()\n",
    "# summarize history for loss\n",
    "plt.plot(history.history['loss'])\n",
    "plt.plot(history.history['val_loss'])\n",
    "plt.title('model loss')\n",
    "plt.ylabel('loss')\n",
    "plt.xlabel('epoch')\n",
    "plt.legend(['train', 'test'], loc='upper left')\n",
    "plt.show()\n",
    "\n",
    "#while changing number of epochs, we learn that model converges at 3 epochs hence this is the optimal number"
   ]
  },
  {
   "cell_type": "markdown",
   "metadata": {
    "colab_type": "text",
    "id": "eAZ1LyFBMLoK"
   },
   "source": [
    "# Make a prediction"
   ]
  },
  {
   "cell_type": "code",
   "execution_count": 200,
   "metadata": {
    "colab": {},
    "colab_type": "code",
    "id": "vfPM5LokII5V",
    "tags": []
   },
   "outputs": [
    {
     "name": "stdout",
     "output_type": "stream",
     "text": [
      "True reviews : \n",
      " ['positive', 'negative', 'positive', 'negative', 'positive'] \n",
      "\n",
      "model with  embedding layer is set to 10\n",
      "['negative', 'negative', 'positive', 'positive', 'negative']\n",
      "\n",
      "\n",
      "model with  embedding layer is set to 25\n",
      "['negative', 'negative', 'positive', 'positive', 'negative']\n",
      "\n",
      "\n",
      "model with  embedding layer is set to 50\n",
      "['negative', 'positive', 'positive', 'positive', 'negative']\n",
      "\n",
      "\n",
      "model with  embedding layer is set to 100\n",
      "['negative', 'negative', 'positive', 'positive', 'negative']\n",
      "\n",
      "\n"
     ]
    }
   ],
   "source": [
    "# This is a very small set of completed new data to use to make predictions.\n",
    "prediction_data = [\"this book is fabulous\",\"i hated this book\", \"the best\", \"no good\", \"okay\"]\n",
    "tokenized = tokenizer.texts_to_sequences(prediction_data)\n",
    "padded = pad_sequences(tokenized, padding='post', maxlen=4)\n",
    "\n",
    "# Supply this data to each of your models and see how it does. \n",
    "# You can call the helper function \"to_word_label\" to map the output of the model to the name of the\n",
    "# class it was predicted to belong to.\n",
    "\n",
    "true_y = [\"positive\",\"negative\", \"positive\", \"negative\", \"positive\"]\n",
    "print('True reviews : \\n', true_y, '\\n')\n",
    "\n",
    "y_pred = model10.predict(padded)\n",
    "print(\"model with  embedding layer is set to 10\")\n",
    "print(to_word_label(y_pred))\n",
    "print(\"\\n\")\n",
    "\n",
    "y_pred = model25.predict(padded)\n",
    "print(\"model with  embedding layer is set to 25\")\n",
    "print(to_word_label(y_pred))\n",
    "print(\"\\n\")\n",
    "\n",
    "y_pred = model50.predict(padded)\n",
    "print(\"model with  embedding layer is set to 50\")\n",
    "print(to_word_label(y_pred))\n",
    "print(\"\\n\")\n",
    "\n",
    "y_pred = model100.predict(padded)\n",
    "print(\"model with  embedding layer is set to 100\")\n",
    "print(to_word_label(y_pred))\n",
    "print(\"\\n\")\n"
   ]
  },
  {
   "cell_type": "code",
   "execution_count": null,
   "metadata": {},
   "outputs": [],
   "source": []
  }
 ],
 "metadata": {
  "colab": {
   "collapsed_sections": [],
   "name": "L3T20.ipynb",
   "provenance": []
  },
  "kernelspec": {
   "display_name": "Python 3",
   "language": "python",
   "name": "python3"
  },
  "language_info": {
   "codemirror_mode": {
    "name": "ipython",
    "version": 3
   },
   "file_extension": ".py",
   "mimetype": "text/x-python",
   "name": "python",
   "nbconvert_exporter": "python",
   "pygments_lexer": "ipython3",
   "version": "3.8.5"
  }
 },
 "nbformat": 4,
 "nbformat_minor": 1
}
